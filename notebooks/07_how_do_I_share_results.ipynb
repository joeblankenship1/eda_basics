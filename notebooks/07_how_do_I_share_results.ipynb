{
 "cells": [
  {
   "cell_type": "markdown",
   "metadata": {},
   "source": [
    "# Exploratory Data Analysis in Python"
   ]
  },
  {
   "cell_type": "markdown",
   "metadata": {},
   "source": [
    "## What we'll cover\n",
    "\n",
    "* Visualization\n",
    "  * Types of visualizations\n",
    "  * Tools\n",
    "  * Time Series data\n",
    "* Data delivery\n"
   ]
  },
  {
   "cell_type": "markdown",
   "metadata": {},
   "source": [
    "### A Little Data Clean-up"
   ]
  },
  {
   "cell_type": "code",
   "execution_count": null,
   "metadata": {},
   "outputs": [],
   "source": [
    "# import libraries\n",
    "import pandas as pd"
   ]
  },
  {
   "cell_type": "code",
   "execution_count": null,
   "metadata": {},
   "outputs": [],
   "source": [
    "# load our data we collected and processed earlier into a dataframe\n",
    "census_ky = pd.read_csv('data/census_2010_ky.csv')\n",
    "census_ky.head(5)"
   ]
  },
  {
   "cell_type": "code",
   "execution_count": null,
   "metadata": {},
   "outputs": [],
   "source": [
    "# use a lambda and apply to strip unwanted string from label series\n",
    "label_func = lambda x: x[:-17:]\n",
    "census_ky['label'] = census_ky.label.apply(label_func)\n",
    "census_ky.head(5)"
   ]
  },
  {
   "cell_type": "code",
   "execution_count": null,
   "metadata": {},
   "outputs": [],
   "source": [
    "# lets find the top ten counties for single moms\n",
    "\n",
    "single_moms = census_ky.nlargest(10, columns=['sinmoms'])\n",
    "# single_moms"
   ]
  },
  {
   "cell_type": "code",
   "execution_count": null,
   "metadata": {},
   "outputs": [],
   "source": [
    "# now let's do the same for single dads\n",
    "\n",
    "single_dads = census_ky.nlargest(10, columns=['sindads'])\n",
    "# single_dads"
   ]
  },
  {
   "cell_type": "code",
   "execution_count": null,
   "metadata": {},
   "outputs": [],
   "source": [
    "# and now for total population\n",
    "\n",
    "total_population = census_ky.nlargest(10, columns=['totpop'])\n",
    "# total_population"
   ]
  },
  {
   "cell_type": "code",
   "execution_count": null,
   "metadata": {},
   "outputs": [],
   "source": [
    "# and finally median age largest and smallest\n",
    "\n",
    "median_age_large = census_ky.nlargest(10, columns=['medage'])\n",
    "median_age_small = census_ky.nsmallest(10, columns=['medage'])\n",
    "# median_age_small"
   ]
  },
  {
   "cell_type": "markdown",
   "metadata": {},
   "source": [
    "<hr>\n",
    "\n",
    "## Data Visualization Libraries\n",
    "\n",
    "<hr>"
   ]
  },
  {
   "cell_type": "markdown",
   "metadata": {},
   "source": [
    "### Matplotlib"
   ]
  },
  {
   "cell_type": "code",
   "execution_count": null,
   "metadata": {},
   "outputs": [],
   "source": [
    "# import pyplot from matplotlib\n",
    "import numpy as np\n",
    "import matplotlib.pyplot as plt\n",
    "%matplotlib inline"
   ]
  },
  {
   "cell_type": "code",
   "execution_count": null,
   "metadata": {},
   "outputs": [],
   "source": [
    "plt.figure(figsize=(12, 8))  # setup dimension of plot\n",
    "\n",
    "# use a bar graph to plot single moms and dads per county\n",
    "# labels will show in legend\n",
    "plt.bar(single_moms.label, single_moms.sinmoms, label='single moms')\n",
    "plt.bar(single_dads.label, single_dads.sindads, label='single dads')\n",
    "# label your axes\n",
    "plt.xlabel('Counties in Kentucky')\n",
    "plt.ylabel('Number of Single Parents')\n",
    "# add a title\n",
    "plt.title(\"Counties with Highest No. of Single Moms & Dads\")\n",
    "# create the legend on main figure\n",
    "plt.legend()\n",
    "# save the image as SVG\n",
    "# plt.savefig('data/matplotlib_bar.svg')\n",
    "# plot the graph\n",
    "plt.show()"
   ]
  },
  {
   "cell_type": "markdown",
   "metadata": {},
   "source": [
    "### Pandas Plot"
   ]
  },
  {
   "cell_type": "code",
   "execution_count": null,
   "metadata": {},
   "outputs": [],
   "source": [
    "# create a bar graph object\n",
    "bar_graph = total_population.plot(  # use the dataframe plot\n",
    "    kind='bar',  # state the type of viz\n",
    "    figsize=(12,8),  # set the figure dimension\n",
    "    legend=False,  # turn off legend\n",
    "    title='Biggest Counties in Kentucky - 2010',  # set title\n",
    "    x='label',  # set x axis\n",
    "    y='totpop'  # set y axis\n",
    ").set(xlabel='Counties in Kentucky', ylabel='Population Count')  # set x and y labels\n",
    "plt.savefig('data/pd_bar.svg')  # save plot to file"
   ]
  },
  {
   "cell_type": "markdown",
   "metadata": {},
   "source": [
    "### Seaborn"
   ]
  },
  {
   "cell_type": "code",
   "execution_count": null,
   "metadata": {},
   "outputs": [],
   "source": [
    "# import seaborn\n",
    "import seaborn as sns"
   ]
  },
  {
   "cell_type": "code",
   "execution_count": null,
   "metadata": {},
   "outputs": [],
   "source": [
    "# plot single dads by median age\n",
    "sns_scatter = sns.relplot(x=\"medage\", y=\"sindads\", data=census_ky)\n",
    "sns_scatter.savefig('data/sns_scatter.svg')"
   ]
  },
  {
   "cell_type": "code",
   "execution_count": null,
   "metadata": {},
   "outputs": [],
   "source": [
    "# see the relationship between pairs of variable in your data\n",
    "sns_all = sns.pairplot(census_ky)"
   ]
  },
  {
   "cell_type": "code",
   "execution_count": null,
   "metadata": {},
   "outputs": [],
   "source": [
    "# examine the same thing, but this time using KDE plots \n",
    "sns_grid = sns.PairGrid(census_ky)\n",
    "sns_grid.map_diag(sns.kdeplot)\n",
    "sns_grid.map_offdiag(sns.kdeplot, n_levels=6)"
   ]
  },
  {
   "cell_type": "code",
   "execution_count": null,
   "metadata": {},
   "outputs": [],
   "source": [
    "# we can examine linear relationships\n",
    "sns.lmplot(x='sinmoms', y='sindads', data=census_ky);"
   ]
  },
  {
   "cell_type": "markdown",
   "metadata": {},
   "source": [
    "### Bokeh"
   ]
  },
  {
   "cell_type": "code",
   "execution_count": null,
   "metadata": {},
   "outputs": [],
   "source": [
    "from bokeh.plotting import figure, output_notebook, show  # for standard .py, use output_file"
   ]
  },
  {
   "cell_type": "code",
   "execution_count": null,
   "metadata": {},
   "outputs": [],
   "source": [
    "# this example is from the Bokeh docs\n",
    "# prepare some data\n",
    "x = [0.1, 0.5, 1.0, 1.5, 2.0, 2.5, 3.0]\n",
    "y0 = [i**2 for i in x]\n",
    "y1 = [10**i for i in x]\n",
    "y2 = [10**(i**2) for i in x]"
   ]
  },
  {
   "cell_type": "code",
   "execution_count": null,
   "metadata": {},
   "outputs": [],
   "source": [
    "# output to notebook\n",
    "output_notebook()"
   ]
  },
  {
   "cell_type": "code",
   "execution_count": null,
   "metadata": {},
   "outputs": [],
   "source": [
    "# create a new plot\n",
    "p = figure(\n",
    "   tools=\"pan,box_zoom,reset,save\",\n",
    "   y_axis_type=\"log\", y_range=[0.001, 10**11], title=\"log axis example\",\n",
    "   x_axis_label='sections', y_axis_label='particles'\n",
    ")"
   ]
  },
  {
   "cell_type": "code",
   "execution_count": null,
   "metadata": {},
   "outputs": [],
   "source": [
    "# add some renderers\n",
    "p.line(x, x, legend=\"y=x\")\n",
    "p.circle(x, x, legend=\"y=x\", fill_color=\"white\", size=8)\n",
    "p.line(x, y0, legend=\"y=x^2\", line_width=3)\n",
    "p.line(x, y1, legend=\"y=10^x\", line_color=\"red\")\n",
    "p.circle(x, y1, legend=\"y=10^x\", fill_color=\"red\", line_color=\"red\", size=6)\n",
    "p.line(x, y2, legend=\"y=10^x^2\", line_color=\"orange\", line_dash=\"4 4\")"
   ]
  },
  {
   "cell_type": "code",
   "execution_count": null,
   "metadata": {},
   "outputs": [],
   "source": [
    "# show the results\n",
    "show(p)"
   ]
  },
  {
   "cell_type": "markdown",
   "metadata": {},
   "source": [
    "### Altair"
   ]
  },
  {
   "cell_type": "code",
   "execution_count": null,
   "metadata": {},
   "outputs": [],
   "source": [
    "# this example is from the altair docs\n",
    "import altair as alt\n",
    "from vega_datasets import data\n",
    "\n",
    "# for the notebook only (not for JupyterLab) run this command once per session\n",
    "# alt.renderers.enable('notebook')"
   ]
  },
  {
   "cell_type": "code",
   "execution_count": null,
   "metadata": {},
   "outputs": [],
   "source": [
    "iris = data.iris()\n",
    "\n",
    "alt.Chart(iris).mark_point().encode(\n",
    "    x='petalLength',\n",
    "    y='petalWidth',\n",
    "    color='species'\n",
    ")"
   ]
  },
  {
   "cell_type": "markdown",
   "metadata": {},
   "source": [
    "### Wordclouds"
   ]
  },
  {
   "cell_type": "markdown",
   "metadata": {},
   "source": [
    "There are also many tools to examine qualitative text visually. The wordcloud is perhaps the simplest."
   ]
  },
  {
   "cell_type": "code",
   "execution_count": null,
   "metadata": {},
   "outputs": [],
   "source": [
    "from wordcloud import WordCloud, STOPWORDS\n",
    "import numpy as np\n",
    "from PIL import Image"
   ]
  },
  {
   "cell_type": "code",
   "execution_count": null,
   "metadata": {},
   "outputs": [],
   "source": [
    "# Read the whole text.\n",
    "text = open('data/text.txt').read()\n",
    "# use a mask if you wish\n",
    "# mask = np.array(Image.open(\"mask.png\"))\n",
    "\n",
    "stopwords = set(STOPWORDS)\n",
    "\n",
    "# Generate a word cloud image\n",
    "# can use kwarg mask=mask if you used a mask above\n",
    "wordcloud = WordCloud(background_color=\"black\", stopwords=stopwords, contour_width=3, contour_color='white').generate(text)\n",
    "wordcloud.to_file('output_image.jpg')"
   ]
  },
  {
   "cell_type": "markdown",
   "metadata": {},
   "source": [
    "<hr>\n",
    "\n",
    "## Time Series Data\n",
    "\n",
    "<hr>"
   ]
  },
  {
   "cell_type": "markdown",
   "metadata": {},
   "source": [
    "There is a lot that goes into time series analysis, so we'll be covering the basic plotting of data here."
   ]
  },
  {
   "cell_type": "code",
   "execution_count": null,
   "metadata": {},
   "outputs": [],
   "source": [
    "import pandas as pd\n",
    "from dateutil.parser import parser\n",
    "import matplotlib.pyplot as plt\n",
    "%matplotlib inline"
   ]
  },
  {
   "cell_type": "code",
   "execution_count": null,
   "metadata": {},
   "outputs": [],
   "source": [
    "# import our price data and assign column names to the dataframe\n",
    "# data was obtained from blockchain.com Bitcoin market data\n",
    "# the data has no header and the index should be the date info which needs to be parsed\n",
    "market_prices = pd.read_csv('data/blockchain_market_price.csv', header=None, index_col=0, parse_dates=True)\n",
    "header = ['price']  # list of our headers, in this case just price\n",
    "market_prices.columns = header  # assign the headers\n",
    "market_prices.index.name = 'date'  # rename our index\n",
    "market_prices.head()"
   ]
  },
  {
   "cell_type": "code",
   "execution_count": null,
   "metadata": {},
   "outputs": [],
   "source": [
    "# plot all the price data\n",
    "market_prices['price'].plot(\n",
    "    figsize=(12,8),  # set the figure dimension\n",
    "    legend=False,  # turn off legend\n",
    "    title='Price of Bitcoin - Nov 2017 to Oct 2018',  # set title\n",
    ")"
   ]
  },
  {
   "cell_type": "code",
   "execution_count": null,
   "metadata": {},
   "outputs": [],
   "source": [
    "# plot data from Jan to Apr 2018 during the Bitcoin Crash\n",
    "market_prices.loc['2018-01':'2018-03'].plot(\n",
    "    figsize=(12,8),  # set the figure dimension\n",
    "    legend=False,  # turn off legend\n",
    "    title='Price of Bitcoin - Jan to Apr - 2018',  # set title\n",
    ")"
   ]
  },
  {
   "cell_type": "markdown",
   "metadata": {
    "slideshow": {
     "slide_type": "slide"
    }
   },
   "source": [
    "<hr>\n",
    "\n",
    "## Resources\n",
    "\n",
    "<hr>\n",
    "\n",
    "**Note:** A lot of the open-source materials are provided by people who develop those materials for a living. So please consider sending them a thank you and if you can, a few buck to support their efforts. Thanks! :)    \n",
    "\n",
    "* [matplotlib](https://matplotlib.org/index.html)\n",
    "* [seaborn](https://seaborn.pydata.org/tutorial.html)\n",
    "* [bokeh](https://bokeh.pydata.org/en/latest/)\n",
    "* [altair](https://altair-viz.github.io/)\n",
    "* [wordcloud](https://amueller.github.io/word_cloud/)"
   ]
  }
 ],
 "metadata": {
  "kernelspec": {
   "display_name": "Python 3",
   "language": "python",
   "name": "python3"
  },
  "language_info": {
   "codemirror_mode": {
    "name": "ipython",
    "version": 3
   },
   "file_extension": ".py",
   "mimetype": "text/x-python",
   "name": "python",
   "nbconvert_exporter": "python",
   "pygments_lexer": "ipython3",
   "version": "3.9.1"
  }
 },
 "nbformat": 4,
 "nbformat_minor": 4
}
