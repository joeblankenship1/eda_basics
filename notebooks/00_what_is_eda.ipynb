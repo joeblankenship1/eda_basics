{
 "cells": [
  {
   "cell_type": "markdown",
   "metadata": {},
   "source": [
    "# Exploratory Data Analysis in Python"
   ]
  },
  {
   "cell_type": "markdown",
   "metadata": {},
   "source": [
    "## What we'll cover\n",
    "\n",
    "* Definitions\n",
    "* EDA vs IDA (e.g., exploratory vs initial data analysis)\n",
    "* Tools\n",
    "  * Software\n",
    "  * Programming Languages\n",
    "  * Visualization\n",
    "* Methods\n",
    "  * Quantitative\n",
    "    * How do I crunch these numbers?\n",
    "    * What numbers do I crunch?\n",
    "  * Qualitative\n",
    "    * What to do when you can't number your way out of work?"
   ]
  },
  {
   "cell_type": "code",
   "execution_count": null,
   "metadata": {},
   "outputs": [],
   "source": []
  }
 ],
 "metadata": {
  "kernelspec": {
   "display_name": "Python 3",
   "language": "python",
   "name": "python3"
  },
  "language_info": {
   "codemirror_mode": {
    "name": "ipython",
    "version": 3
   },
   "file_extension": ".py",
   "mimetype": "text/x-python",
   "name": "python",
   "nbconvert_exporter": "python",
   "pygments_lexer": "ipython3",
   "version": "3.9.0"
  }
 },
 "nbformat": 4,
 "nbformat_minor": 4
}
