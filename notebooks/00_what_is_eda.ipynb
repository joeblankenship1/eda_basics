{
 "cells": [
  {
   "cell_type": "markdown",
   "metadata": {},
   "source": [
    "# Exploratory Data Analysis in Python"
   ]
  },
  {
   "cell_type": "markdown",
   "metadata": {
    "slideshow": {
     "slide_type": "slide"
    }
   },
   "source": [
    "## What we'll cover\n",
    "\n",
    "* IDA vs EDA\n",
    "* Tools for EDA\n",
    "* EDA Methods"
   ]
  },
  {
   "cell_type": "markdown",
   "metadata": {},
   "source": [
    "## A Brief Introduction\n",
    "\n",
    "So let's set some expectations up front:\n",
    "\n",
    "* you are not expected to be an expert after this course\n",
    "* you are not really expected to remember 80% of what we cover\n",
    "\n",
    "However, the one thing to remember is that when it comes to data analysis is that you have options.\n",
    "\n",
    "Data analysis with python is at its core a discussion of how you can use tools in the python programming language to automate parts of your existing job duties:\n",
    "\n",
    "* you are not expected to be a python programmer after this course\n",
    "\n",
    "However, you are expected to be an analyst who also now has some vague python skills that are \"in development.\"\n",
    "\n",
    "The intent of this course is to introduce the idea of using python tools for data analysis:\n",
    "\n",
    "* giving you basic knowledge of the python programming language\n",
    "* demonstrating basic tools and techniques common in data analysis with python\n",
    "* provide you with reference materials for additional learning\n",
    "\n",
    "This is by no mean comprehensive, so if there is content you want added to the course or changed let me know and we'll put it on the update list.\n",
    "\n",
    "For additional details, see the syllabus for the course in the README file of this repository.\n",
    "\n",
    "So let's get into it!"
   ]
  },
  {
   "cell_type": "markdown",
   "metadata": {
    "slideshow": {
     "slide_type": "slide"
    }
   },
   "source": [
    "## IDA vs EDA"
   ]
  },
  {
   "cell_type": "markdown",
   "metadata": {},
   "source": [
    "This is by no means a universal approach, but it is highly reasonable to break \"data analysis\" into phases to ensure your efforts are focused and will produced results that help you in your work.\n",
    "\n",
    "For the purpose of the course, I've broken data analysis into 2 basic phases: initial data analysis and exploratory data analysis.\n",
    "\n",
    "Note: your unique form of data analysis may diverge from this model based on your education, specialization, tooling, and the type(s) of data being analyzed. This model is being used with the intent to make you think about your particular forms of data analysis and how python tools may help accelerate your current model or assist you in modifying it in the future.\n",
    "\n",
    "Let's define and think about each of these phases."
   ]
  },
  {
   "cell_type": "markdown",
   "metadata": {
    "slideshow": {
     "slide_type": "slide"
    }
   },
   "source": [
    "### Initial Data Analysis\n",
    "\n",
    "Initial, or prepatory, data analysis can be thought of as the \"first impressions\" phase of the data analysis process. In this phase, we are concerned about what data we have, if it's the data we need, and what tools we should use to answer the questions we want to answer. In many ways, this is a qualitative step to ensure that the data in question, in part or in whole, represents the \"things\" we want to analyze and assess. So we may as questions like:\n",
    "\n",
    "* What does the data look like?\n",
    "  * What format is it in?\n",
    "  * How much data do I have?\n",
    "* What does this data represent?\n",
    "* Is there anything wrong with the data?\n",
    "  * What is missing from the data that I need for my analysis?\n",
    "  * What needs to be improved in the data?\n",
    "* How was the data collected?\n",
    "  * Who created the data?\n",
    "  * Is that the same as the people who gave it to me?\n",
    "* How is the data being delivered or obtained?\n",
    "  * How long will this take?\n",
    "  * Where do I need to store it?\n",
    "\n",
    "These are a few questions which will help profile your data within the context of your analytic project, guiding you in the selction of tools and techniques most necessary or desirable for the next phase of analysis. Simply put, you want to know if you have the right data for the job.\n",
    "\n",
    "For example, you may have a simple table with a few hundred records (or rows) and not many columns (or fields). Depending on what you need to do with this data, Excel may be the simplest, most effective tool to accomplish your analysis. However, if you have several tables with thousands of records that exist on a web page, an automated solution with python may be a better, long-term solution.\n",
    "\n",
    "Working through your initial data analysis will also help you better approach other analysts, scientists, and engineers in the case you need assitance with coding or additional data requirements.\n",
    "\n",
    "This step may include basic descriptive statistics, but I often caveat this by advising that you only do as much as necessary to sufficiently assess the completeness of your data for more advanced normalization and transformations. Those are often best left for the next phase once you have ensured the data collection encompasses your analytic problem (e.g., you don't want to work on data you may not need).\n",
    "\n",
    "Ultimately, this it where we get the data ready for the more involved and complex phase of exploratory analysis."
   ]
  },
  {
   "cell_type": "markdown",
   "metadata": {
    "slideshow": {
     "slide_type": "slide"
    }
   },
   "source": [
    "### Exploratory Data Analysis\n",
    "\n",
    "Exploratory data analysis is what most people think of when they hear \"data analysis\" as it involves the manipulation and modeling of data to address an initial set of questions through focused application of analytic tools and techniques. This is often mislabeled or misrepresented as \"data science\" which in addition to data analysis involves much more hermeneutic research, thesis formation, advanced data modeling, and peer review practices (e.g., the data analysis is situated within a broader context of disciplinary literature and is geared toward continued research). In both cases, accurate profiling of data and data exploration are critical to producing rigorous and verifiable results.\n",
    "\n",
    "For the purpose of this course, exploratory data analysis is situated with the context of efficiently providing verfiable results for analytic assessments based on the available data. You may want to ask questions such as:\n",
    "\n",
    "* Which variables (i.e., columns or fields) are important for my analytic question?\n",
    "* Which models best suit the data I have for my analysis?\n",
    "  * Does this data model improve my understanding of the analytic problem?\n",
    "  * How do variables need to be normalized or transformed?\n",
    "  * Do I need to sample my data? If so, how?\n",
    "* Does the output sufficiently answer the analytic question?\n",
    "  * Does the data require more advanced analysis/modeling?  \n",
    "* Does the output change the analytic question?\n",
    "  * Does the output change the context of the analytic question?\n",
    "  * Do you need additional data sets?\n",
    "  * Do you need more of the same data?\n",
    "* Which visualization methods best represent the data model?\n",
    "  * Is there a risk of misrepresentation?\n",
    "  * Does this cover the necessary scope of analysis?\n",
    "\n",
    "This is where we see if the data is suited to address a part or the whole of an analytic question. It is assumed that you have an understanding of statistics prior to initiating this phase (or at least how to interpret statistical results from your data models).\n",
    "\n",
    "Throughout this process, it is highly encouraged to work with other team members to ensure your data and data model selections make sense and that results pass a sanity check.\n"
   ]
  },
  {
   "cell_type": "markdown",
   "metadata": {
    "slideshow": {
     "slide_type": "slide"
    }
   },
   "source": [
    "## Tools"
   ]
  },
  {
   "cell_type": "markdown",
   "metadata": {
    "slideshow": {
     "slide_type": "slide"
    }
   },
   "source": [
    "* Software\n",
    "  * Commercial\n",
    "  * Open-source\n",
    "  * Graphical User Interface\n",
    "* Programming Languages\n",
    "  * Scripting Languages\n",
    "  * Domain Specific Languages\n",
    "* Visualization\n",
    "  * Plots\n",
    "  * Charts\n",
    "  * Graphs\n",
    "  * Diagrams"
   ]
  },
  {
   "cell_type": "markdown",
   "metadata": {
    "slideshow": {
     "slide_type": "slide"
    }
   },
   "source": [
    "## Methods"
   ]
  },
  {
   "cell_type": "markdown",
   "metadata": {
    "slideshow": {
     "slide_type": "slide"
    }
   },
   "source": [
    "* Quantitative\n",
    "  * How do I crunch these numbers?\n",
    "  * What numbers do I crunch?\n",
    "* Qualitative\n",
    "  * What to do when you can't number your way out of work?"
   ]
  },
  {
   "cell_type": "markdown",
   "metadata": {
    "slideshow": {
     "slide_type": "slide"
    }
   },
   "source": [
    "## References"
   ]
  },
  {
   "cell_type": "markdown",
   "metadata": {
    "slideshow": {
     "slide_type": "slide"
    }
   },
   "source": []
  }
 ],
 "metadata": {
  "kernelspec": {
   "display_name": "Python 3",
   "language": "python",
   "name": "python3"
  },
  "language_info": {
   "codemirror_mode": {
    "name": "ipython",
    "version": 3
   },
   "file_extension": ".py",
   "mimetype": "text/x-python",
   "name": "python",
   "nbconvert_exporter": "python",
   "pygments_lexer": "ipython3",
   "version": "3.9.1"
  }
 },
 "nbformat": 4,
 "nbformat_minor": 4
}
