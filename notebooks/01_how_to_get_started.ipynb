{
 "cells": [
  {
   "cell_type": "markdown",
   "metadata": {
    "slideshow": {
     "slide_type": "slide"
    }
   },
   "source": [
    "# Exploratory Data Analysis in Python"
   ]
  },
  {
   "cell_type": "markdown",
   "metadata": {
    "slideshow": {
     "slide_type": "slide"
    }
   },
   "source": [
    "<hr>\n",
    "\n",
    "## What we'll cover:\n",
    "\n",
    "* [Are spreadsheets good enough?](#Are-spreadsheets-good-enough?)\n",
    "* [When to automate?](#When-to-automate?)\n",
    "* [Which language should I use?](#Which-language-should-I-use?)\n",
    "* [What is Python and Python Setup](#What-is-Python-and-Python-Setup)\n",
    "* [Where to get help?](#Where-to-get-help?)\n",
    "* [Using Peer and Mob Coding Sessions](#Using-Peer-and-Mob-Coding-Sessions)\n",
    "* [Using DevSecOps to stay on track](#Using-DevSecOps-to-stay-on-track)\n",
    "* [Where do I save my code?](#Where-do-I-save-my-code?)\n",
    "* [Demos!](#Demos!)\n",
    "\n",
    "<hr>"
   ]
  },
  {
   "cell_type": "markdown",
   "metadata": {},
   "source": [
    "<hr>\n",
    "\n",
    "## Are spreadsheets good enough?\n",
    "\n",
    "<hr>\n",
    "\n",
    "As mentioned in the previous section, do a quick assessment to ensure that an involved and possibly complex programatic solution is necessary. There is nothing more frustrating than setting up environments and repos to find out that you could have made a few clicks in a GUI application to the same effect. In the broader scope of time management, choose the most efficient method to get the answers you need from the data. If time permits, go back and attempt to replicate what you've done in a spreadsheet with Python, but not at the expense of pushing back deadlines and the contributions of other team members.\n",
    "\n",
    "As you do more with Python, your collection of code snippets and gists will grow making quick EDA tools as readily usable as a spreadsheet. Until then, be smart about tool selection."
   ]
  },
  {
   "cell_type": "markdown",
   "metadata": {},
   "source": [
    "<hr>\n",
    "\n",
    "## When to automate?\n",
    "\n",
    "<hr>\n",
    "\n",
    "Opinions may vary on this, but in general the question of when to automate data analysis with Python comes down to knowing the limitations and performance of your available tooling. More specifically, you will have to know two initial things in the context of the data and the available analytic tools:\n",
    "\n",
    "* the Shape of the data\n",
    "* the Complexity of the data\n",
    "\n",
    "The shape of data refers to the scale and size of the data. The number of columns and rows combined with the types of variables will help guide you a particular set of tools. The complexity of the data refers to the dimensionality of the data collection and your ability to query that data for analysis. Data source(s), connected tables, data types, messiness, and missing data will help you understand which tools are best suited to address one or more of these issues.\n",
    "\n",
    "After assessing shape and complexity, you will have a more specific sense of what needs to be coded and how that code will integrate into the overarching analytic effort."
   ]
  },
  {
   "cell_type": "markdown",
   "metadata": {},
   "source": [
    "<hr>\n",
    "\n",
    "## Which language should I use?\n",
    "\n",
    "<hr>\n",
    "\n",
    "Python is the focus of this course, but there are similar programming languages builts for data analysis you can choose from:\n",
    "\n",
    "* R is a language built for statistical computing\n",
    "* SQL, or structured query language, are DSLs built for use with relational databases such as PostgreSQL\n",
    "* Julia is a language similar to Python and works well for numerical analysis\n",
    "* Scala is a language built to facilitate a broader array of programming paradigms, but is fast and works optimally with Spark\n"
   ]
  },
  {
   "cell_type": "markdown",
   "metadata": {},
   "source": [
    "<hr>\n",
    "\n",
    "## What is Python and Python Setup\n",
    "\n",
    "<hr>\n",
    "\n",
    "### What is Python?\n",
    "\n",
    "* \"Interpreted high-level programming language\" (Wikipedia)\n",
    "  * JIT (Just-in-time compile)\n",
    "  * Multiple interpreters (Cpython is default)\n",
    "* General-purpose programming\n",
    "* Created by Guido van Rossum (1991)\n",
    "* Named after Monty Python\n",
    "\n",
    "## Why Python?\n",
    "\n",
    "* Simple to Use!\n",
    "* Broad Spectrum of Application\n",
    "* Full Stack Solutions\n",
    "* Numerous 3rd Party Libraries\n",
    "* Active, Open Source Community\n",
    "\n",
    "### Setup - Operating Systems\n",
    "\n",
    "This is the fork in the road where you decide how to setup your system. If you're looking to use Anaconda, Enthought, or another managed Python data ecosystem, skip ahead to the [Where to get help?](#Where-to-get-help?) section.\n",
    "\n",
    "* Go here for your respective OS download\n",
    "  * https://www.python.org/\n",
    "* Windows\n",
    "  * load executable installer or ZIP\n",
    "  * Add to Path!\n",
    "* Mac OS\n",
    "  * Python for Mac OS\n",
    "  * For latest versions, have to download\n",
    "* Linux\n",
    "  * Just the best ;)\n",
    "  * Already have Python and Legacy Python installed\n",
    "\n",
    "### Setup - Package Management\n",
    "\n",
    "* PyPI\n",
    "  * [Python Package Index](https://pypi.python.org/pypi)\n",
    "  * pip3 package utility\n",
    "    * May need to install depending on OS\n",
    "  * Anyone can publish their packages here\n",
    "\n",
    "### Setup - Virtual Environments\n",
    "\n",
    "* Why?\n",
    "  * Maintain project environment\n",
    "  * Prevent clutter\n",
    "    * System packages – Python Standard library\n",
    "    * Site packages - 3rd party libraries\n",
    "  * Prevent package version issues\n",
    "  * Makes sharing your research/projects easier\n",
    "\n",
    "### Setup - Python Virtual Environments\n",
    "\n",
    "* Python has a [default virtual environment tool](https://docs.python.org/3/library/venv.html)\n",
    "* To create your project directory with virtual environment\n",
    "  * `python3 -m venv /path/to/new/virtual/environment`\n",
    "  * `cd /path/to/new/virtual/environment`\n",
    "  * `source bin/activate`\n",
    "* To create a requirements.txt\n",
    "  * activate the virtual environment\n",
    "  * `pip3 freeze > requirements.txt`\n",
    "\n",
    "### Setup - Pre-built environments\n",
    "\n",
    "As stated above, there are other \"simplified\" options for setting up your Python data analysis environment. There are a few:\n",
    "\n",
    "* [Anaconda](https://www.anaconda.com/products/individual)/[Miniconda](https://docs.conda.io/en/latest/miniconda.html)\n",
    "* [Enthought](https://docs.enthought.com/ets/#)\n",
    "* [SageMaker](https://aws.amazon.com/sagemaker/)\n",
    "* [Google Collab](https://colab.research.google.com/notebooks/intro.ipynb)\n",
    "\n",
    "Depending on project requirements or personal preference, any of these would work great for data analysis with Python and in some cases would be prefered for bigger data sets or more resource-intense methods.\n",
    "\n",
    "### Setup - Anaconda Virtual Environments for Python\n",
    "\n",
    "* Anaconda is a popular data science environment and for Windows users may be the simplest option\n",
    "  * Package management/virtual environments are unique to their system\n",
    "  * created using their GUI interface or at the command line using `conda`\n",
    "* Setup instructions can be found on their website\n",
    "\n",
    "### Setup - IDEs\n",
    "\n",
    "* Python comes with a REPL and Idle (not really ideal for data analysis)\n",
    "* You can use Integrated Development Environments (IDEs) which help with tooling and many useful features for coding in Python\n",
    "  * [Jupyter Lab](https://jupyter.org/) (what we'll be using for course)\n",
    "    * Jupyter Notebooks\n",
    "    * iPython\n",
    "  * [Spyder](https://www.spyder-ide.org/) (RStudio feel for Python)\n",
    "  * [PyCharm](https://www.jetbrains.com/pycharm/) (has Jupyter support and educational tooling for beginners)\n",
    "  * [Sublime](https://www.sublimetext.com/) (text editor with plugins built in Python)\n",
    "  * [Atom](https://atom.io/) (just use VS Code)\n",
    "  * [Visual Studio Code](https://code.visualstudio.com/) (text editor that seem unstoppable at this point, get Python support)\n",
    "  * [Notepad++](https://notepad-plus-plus.org/) (Windows, but seriously just use VS Code)\n",
    "  * Any text editor really...\n",
    "    * Beyond this course, you'll probably use Jupyter Notebooks for most data analysis, but as you branch out into bigger programs, VS Code is recommended)\n",
    "      * iPython/Jupyter and [NeoVIM](https://neovim.io/) is what I REALLY recommend, but for your sanity I have to say Jupyter and VS code :D \n"
   ]
  },
  {
   "cell_type": "markdown",
   "metadata": {},
   "source": [
    "<hr>\n",
    "\n",
    "## Where to get help?\n",
    "\n",
    "<hr>\n",
    "\n",
    "Your experienced colleagues are always a great resource for data analysis tips and guidance. There are also several resources online. \n",
    "\n",
    "* Google it all!\n",
    "* [Stack Overflow](https://stackoverflow.com/) FTW!\n"
   ]
  },
  {
   "cell_type": "markdown",
   "metadata": {},
   "source": [
    "<hr>\n",
    "\n",
    "## Using Peer and Mob Coding Sessions\n",
    "\n",
    "<hr>\n",
    "\n",
    "Peer and/or mob coding are great ways to work and learn as a group. In both scenarios, each person takes turns typing while the rest of the group tells them what to write and how to structure the code. This allows more experienced personnel to guide newer team members in a relaxed environment. These sessions generally occur at the beginning of a project or during development of more challenging features, but the decision is ultimately up to two (e.g., peer) or more (e.g., mob) people to coordinate when/where these are most needed.\n"
   ]
  },
  {
   "cell_type": "markdown",
   "metadata": {},
   "source": [
    "<hr>\n",
    "\n",
    "## Using DevSecOps to stay on track\n",
    "\n",
    "<hr>\n",
    "\n",
    "Once you know the data and the tools you need for analysis, it is important to have a system through which to assign tasks and keep track of progress towards task completion. Development and Security Operations (DevSecOps) are a series of frameworks used to organize technical tasks in a project. There are several tools a project lead can use for this:\n",
    "\n",
    "* [Asana](https://asana.com/)\n",
    "* [Trello](https://trello.com/)\n",
    "* [Jira](https://www.atlassian.com/software/jira)\n",
    "\n",
    "This also includes more qualitative tasks such as documentation and task sprints.\n"
   ]
  },
  {
   "cell_type": "markdown",
   "metadata": {
    "slideshow": {
     "slide_type": "slide"
    }
   },
   "source": [
    "<hr>\n",
    "\n",
    "## Where do I save my code?\n",
    "\n",
    "<hr>\n",
    "\n",
    "Last, but certainly not least, you will need to preserve all the elements of your data analysis. This include the Python code you've produced, the raw data, the processed main data used for analysis, and any documentation on what you did, how, and why. Thankfully there are ways for us to back-up our materials as we go. Version control software (VCS) is a way to keep track of changes to our code and data in addition to keeping a back-up with records of the analysis process. The technical lead for a project should set this up with clear direction on how to implement it for your contributions.\n",
    "\n",
    "As of now, GitHub is the most ubiquitous VCS out there and for good reason. It not only provides free VCS, it allows you to perform DevSecOps tracking, documentation via Markdown files and wikis, gists for testing code, Jupyter Notebook support, static website creation, and much more. They even have GUI and CLI tools to make the VCS process easier and accessible.\n",
    "\n",
    "### Version Control Software\n",
    "\n",
    "** Always back-up your projects with a VCS **\n",
    "\n",
    "#### Git is an industry standard version control system (the underlying VCS for the most popular tools)\n",
    "\n",
    "* Github - Go [here](https://guides.github.com/) to get started\n",
    "* GitLab - Go [here](https://docs.gitlab.com/ee/README.html#getting-started-with-gitlab) to get started\n",
    "* BitBucket - Go [here](https://www.atlassian.com/git/tutorials) to get started\n",
    "\n",
    "If you do not feel like learning the Git CLI at first, you can use a GUI Git Client to clone, modify, and push your code.\n",
    "\n",
    "* For Mac and Windows, use [Github Desktop](https://desktop.github.com/)\n",
    "* For Linux, use the CLI\n"
   ]
  },
  {
   "cell_type": "markdown",
   "metadata": {
    "slideshow": {
     "slide_type": "slide"
    }
   },
   "source": [
    "<hr>\n",
    "\n",
    "## Demos!\n",
    "\n",
    "<hr>"
   ]
  },
  {
   "cell_type": "code",
   "execution_count": null,
   "metadata": {
    "slideshow": {
     "slide_type": "subslide"
    }
   },
   "outputs": [],
   "source": [
    "# Python Easter Egg!\n",
    "import antigravity"
   ]
  },
  {
   "cell_type": "code",
   "execution_count": null,
   "metadata": {
    "slideshow": {
     "slide_type": "subslide"
    }
   },
   "outputs": [],
   "source": [
    "# Another Python Easter Egg!\n",
    "import this"
   ]
  },
  {
   "cell_type": "code",
   "execution_count": null,
   "metadata": {
    "slideshow": {
     "slide_type": "subslide"
    }
   },
   "outputs": [],
   "source": [
    "# A simple app to open multiple search tabs on a browser for same query\n",
    "\n",
    "# from core Python3, import open_new_tab module from webbrowser library\n",
    "from webbrowser import open_new_tab\n",
    "\n",
    "# Define list of search engine URLs\n",
    "websites = [\n",
    "    \"https://www.google.com/search?q=\",\n",
    "    \"https://duckduckgo.com/?q=\",\n",
    "    \"https://search.yahoo.com/search?p=\",\n",
    "    \"https://www.bing.com/search?q=\",\n",
    "    \"https://www.ask.com/web?q=\",\n",
    "    \"https://www.startpage.com/do/dsearch?query=\"\n",
    "]\n",
    "\n",
    "# Define the search query\n",
    "query =  # what do we need here?\n",
    "\n",
    "# For each URL in the list\n",
    "# open a new tab and populate the URL with the search engine and query \n",
    "for i in websites:\n",
    "    open_new_tab()  # what should we give our function here?\n"
   ]
  },
  {
   "cell_type": "code",
   "execution_count": null,
   "metadata": {
    "slideshow": {
     "slide_type": "subslide"
    }
   },
   "outputs": [],
   "source": [
    "# An app with a function which opens multiple search tabs on a browser for same query\n",
    "\n",
    "# from core Python3, import open_new_tab module from webbrowser library\n",
    "from webbrowser import open_new_tab\n",
    "\n",
    "# Define a reusable function named 'search' that takes arguments for a search phrase and engines\n",
    "def search(search_phrase, search_engines):\n",
    "    # For each URL in the list\n",
    "    for i in search_engines:\n",
    "        # open a new tab and populate the URL with the search engine and query \n",
    "        open_new_tab(i)  # does this do what we want?\n"
   ]
  },
  {
   "cell_type": "code",
   "execution_count": null,
   "metadata": {
    "slideshow": {
     "slide_type": "subslide"
    }
   },
   "outputs": [],
   "source": [
    "# use our search function for our query\n",
    "# place your code below\n",
    "\n"
   ]
  },
  {
   "cell_type": "markdown",
   "metadata": {
    "slideshow": {
     "slide_type": "slide"
    }
   },
   "source": [
    "## Resources\n",
    "\n",
    "* Public/Univeristy Libraries\n",
    "  * Books, E-books, and online education resources\n",
    "* [Pycoder's Weekly](http://pycoders.com/)\n",
    "* [KDNuggets](https://www.kdnuggets.com/news/index.html)\n",
    "* [Data Science Weekly](https://www.datascienceweekly.org/newsletters/data-science-weekly-newsletter-issue-217)\n",
    "* [DataCamp](https://www.datacamp.com/)\n",
    "* [Codecademy](https://www.codecademy.com/)\n",
    "* [Python Packages](https://packaging.python.org/tutorials/installing-packages/)\n",
    "* [Real Python](https://realpython.com/)\n",
    "* [Full Stack Python](https://www.fullstackpython.com/)\n",
    "* [PyCon talks](http://pyvideo.org/)\n",
    "* [Dan Bader’s stuff](https://dbader.org/)"
   ]
  }
 ],
 "metadata": {
  "kernelspec": {
   "display_name": "Python 3",
   "language": "python",
   "name": "python3"
  },
  "language_info": {
   "codemirror_mode": {
    "name": "ipython",
    "version": 3
   },
   "file_extension": ".py",
   "mimetype": "text/x-python",
   "name": "python",
   "nbconvert_exporter": "python",
   "pygments_lexer": "ipython3",
   "version": "3.9.1"
  }
 },
 "nbformat": 4,
 "nbformat_minor": 4
}
