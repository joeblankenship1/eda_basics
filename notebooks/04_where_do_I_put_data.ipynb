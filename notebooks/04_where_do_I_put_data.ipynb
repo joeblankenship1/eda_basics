{
 "cells": [
  {
   "cell_type": "markdown",
   "metadata": {},
   "source": [
    "# Exploratory Data Analysis in Python"
   ]
  },
  {
   "cell_type": "markdown",
   "metadata": {},
   "source": [
    "## What we'll cover\n",
    "\n",
    "* [Single Files](#Single-Files)\n",
    "  * Several formats\n",
    "* [Databases](#Databases)\n",
    "  * [Types](#Types)\n",
    "  * [CLIs](#CLI-for-databases)\n",
    "  * [GUIs](#GUIs-for-databases)\n",
    "  * [ORMs](#ORM)"
   ]
  },
  {
   "cell_type": "markdown",
   "metadata": {},
   "source": [
    "<hr>\n",
    "\n",
    "## Single Files\n",
    "\n",
    "<hr>"
   ]
  },
  {
   "cell_type": "markdown",
   "metadata": {},
   "source": []
  },
  {
   "cell_type": "code",
   "execution_count": null,
   "metadata": {},
   "outputs": [],
   "source": []
  },
  {
   "cell_type": "code",
   "execution_count": null,
   "metadata": {},
   "outputs": [],
   "source": []
  },
  {
   "cell_type": "code",
   "execution_count": null,
   "metadata": {},
   "outputs": [],
   "source": []
  },
  {
   "cell_type": "markdown",
   "metadata": {},
   "source": [
    "<hr>\n",
    "\n",
    "## Databases\n",
    "\n",
    "<hr>"
   ]
  },
  {
   "cell_type": "markdown",
   "metadata": {},
   "source": [
    "### Types\n",
    "\n",
    "\n",
    "\n",
    "### CLI for databases\n",
    "\n",
    "\n",
    "\n",
    "### GUIs for databases\n",
    "\n",
    "\n"
   ]
  },
  {
   "cell_type": "markdown",
   "metadata": {},
   "source": [
    "### SQL Databases"
   ]
  },
  {
   "cell_type": "code",
   "execution_count": null,
   "metadata": {},
   "outputs": [],
   "source": [
    "# create and write data from a sqlite3 database\n",
    "# Python3 comes with sqlite and can be a power tool for initial data exploration\n",
    "\n",
    "import sqlite3\n",
    "import csv\n",
    "\n",
    "# create the database \n",
    "connection = sqlite3.connect('data/census_2019_fl.db')\n",
    "# create a cursor to interact with the database\n",
    "cursor = connection.cursor()\n",
    "# use the cursor to execute SQL commands on the database. here we're creating a table."
   ]
  },
  {
   "cell_type": "code",
   "execution_count": null,
   "metadata": {},
   "outputs": [],
   "source": [
    "cursor.execute('CREATE TABLE flcensus2019 (id, geoid, label, totpop, medage, malevoter, femalevoter);')\n",
    "# with the CSV we intend to use to append out table, iterate through the CSV rows\n",
    "with open('data/census_2019_fl.csv', 'r') as data:\n",
    "    fl_data = csv.DictReader(data)\n",
    "    to_database = [(i['id'],\n",
    "                    i['geoid'],\n",
    "                    i['label'],\n",
    "                    i['totpop'],\n",
    "                    i['medage'],\n",
    "                    i['malevoter'],\n",
    "                    i['femalevoter'])\n",
    "                   for i in fl_data\n",
    "                  ]"
   ]
  },
  {
   "cell_type": "code",
   "execution_count": null,
   "metadata": {},
   "outputs": [],
   "source": [
    "# take the output of the above iterations and place the CSV row data into the database table\n",
    "cursor.executemany('INSERT INTO flcensus2019 (id, geoid, label, totpop, medage, malevoter, femalevoter) VALUES (?, ?, ?, ?, ?, ?, ?);', to_database)"
   ]
  },
  {
   "cell_type": "code",
   "execution_count": null,
   "metadata": {},
   "outputs": [],
   "source": [
    "# commit your changes to the database and tables\n",
    "connection.commit()\n",
    "# close your connection to the database\n",
    "connection.close()"
   ]
  },
  {
   "cell_type": "code",
   "execution_count": null,
   "metadata": {},
   "outputs": [],
   "source": [
    "# read data from sqlite3 database\n",
    "import pandas as pd\n",
    "\n",
    "connection = sqlite3.connect('data/census_2019_fl.db')\n",
    "# use pandas to read a table from the database connection to create a dataframe\n",
    "census_2019_fl_sql = pd.read_sql_query(\"SELECT * FROM flcensus2019\", connection)\n",
    "# close the database connection once you're done creating your pandas dataframe\n",
    "connection.close()"
   ]
  },
  {
   "cell_type": "code",
   "execution_count": null,
   "metadata": {},
   "outputs": [],
   "source": [
    "# test your dataframe\n",
    "census_2019_fl_sql.head(2)"
   ]
  },
  {
   "cell_type": "markdown",
   "metadata": {},
   "source": [
    "### NoSQL Databases"
   ]
  },
  {
   "cell_type": "markdown",
   "metadata": {},
   "source": [
    "#### MongoDB"
   ]
  },
  {
   "cell_type": "markdown",
   "metadata": {},
   "source": [
    "Honestly the easiest way to import `CSV`, `JSON`, and other flat files is to use the `mongoimport` CLI tool.\n",
    "\n",
    "At the terminal, type a `mongoimport` command like the one below to import your data:\n",
    "\n",
    "`mongoimport -d census2019 -c flcensus2019 --type csv --file data/census_2019_fl.csv --headerline`\n",
    "\n",
    "`-d` is the new database mongo will create to store your collections<br>\n",
    "`-c` is the new collection for your flat file import<br>\n",
    "`--type` denotes the type of file (e.g., CSV, JSON)<br>\n",
    "`--file` is the relative path to your flat file<br>\n",
    "`--headerline` denotes that the flat file has a headerline (specific to CSV)<br>"
   ]
  },
  {
   "cell_type": "code",
   "execution_count": null,
   "metadata": {},
   "outputs": [],
   "source": [
    "# Connect to and access a mongo database\n",
    "\n",
    "from pymongo import MongoClient\n",
    "# create a MongoDB connection called a client\n",
    "client = MongoClient()\n",
    "# create a database named census2010\n",
    "database = client.census2019\n",
    "# create a mongo collection named kycensus2010\n",
    "flcensus2019 = database.flcensus2019\n",
    "# create a pandas dataframe for a list of the kycensus2010 record search outputs\n",
    "census_2019_fl_mongo = pd.DataFrame(list(flcensus2019.find()))"
   ]
  },
  {
   "cell_type": "code",
   "execution_count": null,
   "metadata": {},
   "outputs": [],
   "source": [
    "# check your dataframe\n",
    "census_2019_fl_mongo.head(2)\n",
    "\n",
    "# notice how Mongo has assigned each record a unique _id"
   ]
  },
  {
   "cell_type": "markdown",
   "metadata": {},
   "source": [
    "#### Apache Cassandra"
   ]
  },
  {
   "cell_type": "markdown",
   "metadata": {},
   "source": [
    "When compared to MongoDB, Apache Cassandra is a NoSQL database that is preferrable for a number of reasons including its ability to scalability, decentralization, and performance.\n",
    "\n",
    "There is a [python client](https://github.com/datastax/python-driver) for Cassandra that you can use in a similar fashion to PyMongo above."
   ]
  },
  {
   "cell_type": "markdown",
   "metadata": {},
   "source": [
    "### Graph Databases"
   ]
  },
  {
   "cell_type": "markdown",
   "metadata": {},
   "source": [
    "Given this is an intro course, I'll save graph databases until a future social network analysis in Python class. Just know that they exist and have some interesting \n",
    "properties as compared to SQL and NoSQL databases.\n",
    "\n",
    "There are links below for `Apache AGE`, `Neo4j`, and `Grakn`. There is also `simple-graph` for SQLite databases."
   ]
  },
  {
   "cell_type": "markdown",
   "metadata": {},
   "source": [
    "### ORM"
   ]
  },
  {
   "attachments": {
    "e574c62c-897f-4570-9a04-f96f771ef3fa.png": {
     "image/png": "[encoded data removed]"
    }
   },
   "cell_type": "markdown",
   "metadata": {},
   "source": [
    "An Object Relational Mapper (ORM) is a layer in between your user interface and the database driver that:\n",
    "\n",
    "* Associates a Pythonic model to each database table\n",
    "* Allows you to migrate your schema to several SQL databases\n",
    "\n",
    "What this means is that once you have your tables and database built once, you can move it easily without having to re-write SQL scripts for the new database.\n",
    "\n",
    "![image.png](attachment:e574c62c-897f-4570-9a04-f96f771ef3fa.png)\n",
    "\n",
    "What follows is a rebuild of our SQL model above using SQLAlchemy."
   ]
  },
  {
   "cell_type": "markdown",
   "metadata": {},
   "source": [
    "#### Query with SQLAlchemy"
   ]
  },
  {
   "cell_type": "code",
   "execution_count": null,
   "metadata": {},
   "outputs": [],
   "source": [
    "# use sqlalchemy to manipulate sql databases\n",
    "# if you plan to move your sqlite3 database to another sql database, use this approach\n",
    "import pandas as pd\n",
    "import sqlalchemy as sqla\n",
    "# create a sqlachemy database connection (or engine)\n",
    "# this is use to connect to an existing database\n",
    "census_2019_fl_database = sqla.create_engine('sqlite:///data/census_2019_fl.db')\n",
    "# read a table from the database usng the above engine\n",
    "census_2019_fl_sql_2 = pd.read_sql('SELECT * FROM flcensus2019', census_2019_fl_database)\n",
    "# check your dataframe\n",
    "census_2019_fl_sql_2.head(2)"
   ]
  },
  {
   "cell_type": "markdown",
   "metadata": {},
   "source": [
    "#### Build with SQLAlchemy"
   ]
  },
  {
   "cell_type": "code",
   "execution_count": null,
   "metadata": {},
   "outputs": [],
   "source": [
    "# Now, let's redo our database build using a SQLAlchemy model.\n",
    "# import the connection and table creation elements\n",
    "from sqlalchemy import create_engine, Column, Integer, Float, String\n",
    "# the base class will hold the table objects and classes\n",
    "from sqlalchemy.ext.declarative import declarative_base\n",
    "# sessionmaker will allow us to interaction with the database\n",
    "from sqlalchemy.orm import sessionmaker"
   ]
  },
  {
   "cell_type": "code",
   "execution_count": null,
   "metadata": {},
   "outputs": [],
   "source": [
    "# create the engine for the selected database in memory\n",
    "engine = create_engine('sqlite:///:memory:', echo=True)\n",
    "# the metadata object will hold the table\n",
    "Base = declarative_base()\n",
    "# define the table object with the name and schema\n",
    "class Census(Base):\n",
    "    __tablename__ = 'census'\n",
    "    \n",
    "    id = Column('id', String, primary_key=True)\n",
    "    geoid = Column('geoid', Integer)\n",
    "    label = Column('label', String)\n",
    "    totpop = Column('totpop', Integer)\n",
    "    medage = Column('medage', Float)\n",
    "    malevoter = Column('malevoter', Integer)\n",
    "    femalevoter = Column('femalevoter', Integer)\n"
   ]
  },
  {
   "cell_type": "code",
   "execution_count": null,
   "metadata": {},
   "outputs": [],
   "source": [
    "# create the defined tables\n",
    "Base.metadata.create_all(engine)"
   ]
  },
  {
   "cell_type": "code",
   "execution_count": null,
   "metadata": {},
   "outputs": [],
   "source": [
    "# use sessionmake to interact with the database\n",
    "Session = sessionmaker(bind=engine)\n",
    "session = Session()"
   ]
  },
  {
   "cell_type": "code",
   "execution_count": null,
   "metadata": {},
   "outputs": [],
   "source": [
    "# add data from CSV into the census table\n"
   ]
  },
  {
   "cell_type": "code",
   "execution_count": null,
   "metadata": {},
   "outputs": [],
   "source": [
    "# test the database\n",
    "census = session.query(Census).all()"
   ]
  },
  {
   "cell_type": "code",
   "execution_count": null,
   "metadata": {},
   "outputs": [],
   "source": [
    "# connect to database with pandas and create dataframe\n"
   ]
  },
  {
   "cell_type": "code",
   "execution_count": null,
   "metadata": {},
   "outputs": [],
   "source": [
    "# test your dataframe\n",
    "census_2019_fl_sqla.head(2)"
   ]
  },
  {
   "cell_type": "markdown",
   "metadata": {},
   "source": [
    "<hr>\n",
    "\n",
    "### Resources\n",
    "\n",
    "<hr>"
   ]
  },
  {
   "cell_type": "markdown",
   "metadata": {},
   "source": [
    "* [SQLAlchemy](https://www.sqlalchemy.org/)\n",
    "* [PostgreSQL](https://www.postgresql.org/)\n",
    "  * [PostGIS](https://postgis.net/)\n",
    "  * [Apache AGE](https://age.apache.org/)\n",
    "* [MongoDB](https://www.mongodb.com/)\n",
    "  * [pymongo](https://api.mongodb.com/python/current/)\n",
    "* [Cassandra](https://cassandra.apache.org/)\n",
    "* [Neo4j](https://neo4j.com/)\n",
    "  * [py2neo](https://py2neo.org/2021.0/)\n",
    "* [Grakn](https://grakn.ai/)\n",
    "* [Datastax DSE Graph](https://www.datastax.com/products/datastax-graph)"
   ]
  }
 ],
 "metadata": {
  "kernelspec": {
   "display_name": "Python 3",
   "language": "python",
   "name": "python3"
  },
  "language_info": {
   "codemirror_mode": {
    "name": "ipython",
    "version": 3
   },
   "file_extension": ".py",
   "mimetype": "text/x-python",
   "name": "python",
   "nbconvert_exporter": "python",
   "pygments_lexer": "ipython3",
   "version": "3.9.1"
  }
 },
 "nbformat": 4,
 "nbformat_minor": 4
}
