{
 "cells": [
  {
   "cell_type": "markdown",
   "metadata": {},
   "source": [
    "# Exploratory Data Analysis in Python"
   ]
  },
  {
   "cell_type": "markdown",
   "metadata": {},
   "source": [
    "<hr>\n",
    "\n",
    "## What we'll cover\n",
    "\n",
    "* [Visualization](#Visualization)\n",
    "  * [Types of Visualizations](#Types-of-Visualizations)\n",
    "  * [Visualization Libraries](#Visualization-Libraries)\n",
    "  * [Time Series Data](#Time-Series-Data)\n",
    "* [Data Delivery](#Data-Delivery)\n",
    "\n",
    "<hr>"
   ]
  },
  {
   "cell_type": "markdown",
   "metadata": {},
   "source": [
    "<hr>\n",
    "\n",
    "## Visualization\n",
    "\n",
    "<hr>"
   ]
  },
  {
   "cell_type": "markdown",
   "metadata": {},
   "source": []
  },
  {
   "cell_type": "markdown",
   "metadata": {},
   "source": []
  },
  {
   "cell_type": "markdown",
   "metadata": {},
   "source": []
  },
  {
   "cell_type": "markdown",
   "metadata": {},
   "source": [
    "<hr>\n",
    "\n",
    "### Types of Visualizations\n",
    "\n",
    "<hr>"
   ]
  },
  {
   "cell_type": "markdown",
   "metadata": {},
   "source": []
  },
  {
   "cell_type": "markdown",
   "metadata": {},
   "source": []
  },
  {
   "cell_type": "markdown",
   "metadata": {},
   "source": []
  },
  {
   "cell_type": "markdown",
   "metadata": {},
   "source": [
    "<hr>\n",
    "\n",
    "## Visualization Libraries\n",
    "\n",
    "<hr>"
   ]
  },
  {
   "cell_type": "markdown",
   "metadata": {},
   "source": [
    "### First, a Little Data Clean-up"
   ]
  },
  {
   "cell_type": "code",
   "execution_count": null,
   "metadata": {},
   "outputs": [],
   "source": [
    "# import libraries\n",
    "import pandas as pd"
   ]
  },
  {
   "cell_type": "code",
   "execution_count": null,
   "metadata": {},
   "outputs": [],
   "source": [
    "# load our data we collected and processed earlier into a dataframe\n",
    "census_fl = pd.read_csv('data/census_2019_fl.csv')\n",
    "census_fl.head(5)"
   ]
  },
  {
   "cell_type": "code",
   "execution_count": null,
   "metadata": {},
   "outputs": [],
   "source": [
    "# use a lambda and apply to strip unwanted string from label series\n",
    "label_func = lambda x: x[:-16:]\n",
    "census_fl['label'] = census_fl.label.apply(label_func)\n",
    "census_fl.head(5)"
   ]
  },
  {
   "cell_type": "code",
   "execution_count": null,
   "metadata": {},
   "outputs": [],
   "source": [
    "# lets find the top ten counties for female voters\n",
    "\n",
    "fem_voters = census_fl.nlargest(10, columns=['femalevoter'])\n",
    "# fem_voters"
   ]
  },
  {
   "cell_type": "code",
   "execution_count": null,
   "metadata": {},
   "outputs": [],
   "source": [
    "# now let's do the same for male voters\n",
    "\n",
    "male_voters = census_fl.nlargest(10, columns=['malevoter'])\n",
    "# male_voters"
   ]
  },
  {
   "cell_type": "code",
   "execution_count": null,
   "metadata": {},
   "outputs": [],
   "source": [
    "# and now for total population\n",
    "\n",
    "total_population = census_fl.nlargest(10, columns=['totpop'])\n",
    "# total_population"
   ]
  },
  {
   "cell_type": "code",
   "execution_count": null,
   "metadata": {},
   "outputs": [],
   "source": [
    "# and finally median age largest and smallest\n",
    "\n",
    "median_age_large = census_fl.nlargest(10, columns=['medage'])\n",
    "median_age_small = census_fl.nsmallest(10, columns=['medage'])\n",
    "# median_age_small"
   ]
  },
  {
   "cell_type": "markdown",
   "metadata": {},
   "source": [
    "### Matplotlib"
   ]
  },
  {
   "cell_type": "code",
   "execution_count": null,
   "metadata": {},
   "outputs": [],
   "source": [
    "# import pyplot from matplotlib\n",
    "import numpy as np\n",
    "import matplotlib.pyplot as plt\n",
    "%matplotlib inline"
   ]
  },
  {
   "cell_type": "code",
   "execution_count": null,
   "metadata": {},
   "outputs": [],
   "source": [
    "plt.figure(figsize=(12, 8))  # setup dimension of plot\n",
    "\n",
    "# use a bar graph to plot female and male voters per county\n",
    "# labels will show in legend\n",
    "plt.bar(fem_voters.label, fem_voters.femalevoter, label='female voters')\n",
    "plt.bar(male_voters.label, male_voters.malevoter, label='male voters')\n",
    "# label your axes\n",
    "plt.xlabel('Counties in Florida')\n",
    "plt.ylabel('Number of Voters')\n",
    "# add a title\n",
    "plt.title(\"Counties with Highest No. of Female & Male Voters\")\n",
    "# create the legend on main figure\n",
    "plt.legend()\n",
    "# save the image as SVG\n",
    "# plt.savefig('data/matplotlib_bar.svg')\n",
    "# plot the graph\n",
    "plt.show()"
   ]
  },
  {
   "cell_type": "markdown",
   "metadata": {},
   "source": [
    "### Pandas Plot"
   ]
  },
  {
   "cell_type": "code",
   "execution_count": null,
   "metadata": {},
   "outputs": [],
   "source": [
    "# create a bar graph object\n",
    "bar_graph = total_population.plot(  # use the dataframe plot\n",
    "    kind='bar',  # state the type of viz\n",
    "    figsize=(12,8),  # set the figure dimension\n",
    "    legend=False,  # turn off legend\n",
    "    title='Biggest Counties in Florida - 2019',  # set title\n",
    "    x='label',  # set x axis\n",
    "    y='totpop'  # set y axis\n",
    ").set(xlabel='Counties in Florida', ylabel='Population Count')  # set x and y labels\n",
    "#plt.savefig('data/pd_bar.svg')  # save plot to file"
   ]
  },
  {
   "cell_type": "markdown",
   "metadata": {},
   "source": [
    "### Seaborn"
   ]
  },
  {
   "cell_type": "code",
   "execution_count": null,
   "metadata": {},
   "outputs": [],
   "source": [
    "# import seaborn\n",
    "import seaborn as sns"
   ]
  },
  {
   "cell_type": "code",
   "execution_count": null,
   "metadata": {},
   "outputs": [],
   "source": [
    "# plot male voters by median age\n",
    "sns_scatter = sns.relplot(x=\"medage\", y=\"malevoter\", data=census_fl)\n",
    "#sns_scatter.savefig('data/sns_scatter.svg')\n",
    "sns_scatter"
   ]
  },
  {
   "cell_type": "code",
   "execution_count": null,
   "metadata": {},
   "outputs": [],
   "source": [
    "# see the relationship between pairs of variable in your data\n",
    "sns_all = sns.pairplot(census_fl)"
   ]
  },
  {
   "cell_type": "code",
   "execution_count": null,
   "metadata": {},
   "outputs": [],
   "source": [
    "# examine the same thing, but this time using KDE plots \n",
    "sns_grid = sns.PairGrid(census_fl)\n",
    "sns_grid.map_diag(sns.kdeplot)\n",
    "sns_grid.map_offdiag(sns.kdeplot, n_levels=6)"
   ]
  },
  {
   "cell_type": "code",
   "execution_count": null,
   "metadata": {},
   "outputs": [],
   "source": [
    "# we can examine linear relationships\n",
    "sns.lmplot(x='femalevoter', y='malevoter', data=census_fl);"
   ]
  },
  {
   "cell_type": "markdown",
   "metadata": {},
   "source": [
    "### Bokeh"
   ]
  },
  {
   "cell_type": "code",
   "execution_count": null,
   "metadata": {},
   "outputs": [],
   "source": [
    "from bokeh.plotting import figure, output_notebook, show  # for standard .py, use output_file"
   ]
  },
  {
   "cell_type": "code",
   "execution_count": null,
   "metadata": {},
   "outputs": [],
   "source": [
    "# this example is from the Bokeh docs\n",
    "# prepare some data\n",
    "x = [0.1, 0.5, 1.0, 1.5, 2.0, 2.5, 3.0]\n",
    "y0 = [i**2 for i in x]\n",
    "y1 = [10**i for i in x]\n",
    "y2 = [10**(i**2) for i in x]"
   ]
  },
  {
   "cell_type": "code",
   "execution_count": null,
   "metadata": {},
   "outputs": [],
   "source": [
    "# output to notebook\n",
    "output_notebook()"
   ]
  },
  {
   "cell_type": "code",
   "execution_count": null,
   "metadata": {},
   "outputs": [],
   "source": [
    "# create a new plot\n",
    "p = figure(\n",
    "   tools=\"pan,box_zoom,reset,save\",\n",
    "   y_axis_type=\"log\", y_range=[0.001, 10**11], title=\"log axis example\",\n",
    "   x_axis_label='sections', y_axis_label='particles'\n",
    ")"
   ]
  },
  {
   "cell_type": "code",
   "execution_count": null,
   "metadata": {},
   "outputs": [],
   "source": [
    "# add some renderers\n",
    "p.line(x, x, legend_label=\"y=x\")\n",
    "p.circle(x, x, legend_label=\"y=x\", fill_color=\"white\", size=8)\n",
    "p.line(x, y0, legend_label=\"y=x^2\", line_width=3)\n",
    "p.line(x, y1, legend_label=\"y=10^x\", line_color=\"red\")\n",
    "p.circle(x, y1, legend_label=\"y=10^x\", fill_color=\"red\", line_color=\"red\", size=6)\n",
    "p.line(x, y2, legend_label=\"y=10^x^2\", line_color=\"orange\", line_dash=\"4 4\")"
   ]
  },
  {
   "cell_type": "code",
   "execution_count": null,
   "metadata": {},
   "outputs": [],
   "source": [
    "# show the results\n",
    "show(p)"
   ]
  },
  {
   "cell_type": "markdown",
   "metadata": {},
   "source": [
    "### Altair"
   ]
  },
  {
   "cell_type": "code",
   "execution_count": null,
   "metadata": {},
   "outputs": [],
   "source": [
    "# this example is from the altair docs\n",
    "import altair as alt\n",
    "from vega_datasets import data\n",
    "\n",
    "# for the notebook only (not for JupyterLab) run this command once per session\n",
    "# alt.renderers.enable('notebook')"
   ]
  },
  {
   "cell_type": "code",
   "execution_count": null,
   "metadata": {},
   "outputs": [],
   "source": [
    "iris = data.iris()\n",
    "\n",
    "alt.Chart(iris).mark_point().encode(\n",
    "    x='petalLength',\n",
    "    y='petalWidth',\n",
    "    color='species'\n",
    ")"
   ]
  },
  {
   "cell_type": "markdown",
   "metadata": {},
   "source": [
    "### Holoviews"
   ]
  },
  {
   "cell_type": "code",
   "execution_count": null,
   "metadata": {},
   "outputs": [],
   "source": [
    "import pandas as pd\n",
    "import numpy as np\n",
    "import holoviews as hv\n",
    "from holoviews import opts\n",
    "hv.extension('bokeh')"
   ]
  },
  {
   "cell_type": "code",
   "execution_count": null,
   "metadata": {},
   "outputs": [],
   "source": [
    "# add a scatterplot\n",
    "female_votersp = hv.Scatter(census_fl, 'femalevoter', 'totpop', label='Female Voters')\n",
    "# add a spike chart\n",
    "male_votersp = hv.Spikes(census_fl, 'malevoter', 'totpop', label='Male Voter')\n",
    "# combine the scatter and spike into single chart to link them\n",
    "voter_scatterp = female_votersp + male_votersp\n",
    "# set options for both plots and set to a single column\n",
    "voter_scatterp.opts(\n",
    "    opts.Scatter(height=200, width=600, xaxis=None, line_width=1.5, color='red', tools=['hover', 'tap', 'lasso_select']),\n",
    "    opts.Spikes(height=200, width=600, line_width=1.5, color='blue', tools=['hover', 'tap', 'lasso_select'])\n",
    ").cols(1)"
   ]
  },
  {
   "cell_type": "code",
   "execution_count": null,
   "metadata": {},
   "outputs": [],
   "source": []
  },
  {
   "cell_type": "code",
   "execution_count": null,
   "metadata": {},
   "outputs": [],
   "source": []
  },
  {
   "cell_type": "markdown",
   "metadata": {},
   "source": [
    "### Wordclouds"
   ]
  },
  {
   "cell_type": "markdown",
   "metadata": {},
   "source": [
    "There are also many tools to examine qualitative text visually. The wordcloud is perhaps the simplest."
   ]
  },
  {
   "cell_type": "code",
   "execution_count": null,
   "metadata": {},
   "outputs": [],
   "source": [
    "from wordcloud import WordCloud, STOPWORDS\n",
    "import numpy as np\n",
    "from PIL import Image"
   ]
  },
  {
   "cell_type": "code",
   "execution_count": null,
   "metadata": {},
   "outputs": [],
   "source": [
    "# Read the whole text.\n",
    "text = open('data/text.txt').read()\n",
    "# use a mask if you wish\n",
    "# mask = np.array(Image.open(\"mask.png\"))\n",
    "\n",
    "stopwords = set(STOPWORDS)\n",
    "\n",
    "# Generate a word cloud image\n",
    "# can use kwarg mask=mask if you used a mask above\n",
    "wordcloud = WordCloud(background_color=\"black\", stopwords=stopwords, contour_width=3, contour_color='white').generate(text)\n",
    "wordcloud.to_file('data/output_image.jpg')"
   ]
  },
  {
   "cell_type": "markdown",
   "metadata": {},
   "source": [
    "<hr>\n",
    "\n",
    "## Time Series Data\n",
    "\n",
    "<hr>"
   ]
  },
  {
   "cell_type": "markdown",
   "metadata": {},
   "source": [
    "There is a lot that goes into time series analysis, so we'll be covering the basic plotting of data here."
   ]
  },
  {
   "cell_type": "code",
   "execution_count": null,
   "metadata": {},
   "outputs": [],
   "source": [
    "import pandas as pd\n",
    "from dateutil.parser import parser\n",
    "import matplotlib.pyplot as plt\n",
    "%matplotlib inline"
   ]
  },
  {
   "cell_type": "code",
   "execution_count": null,
   "metadata": {},
   "outputs": [],
   "source": [
    "# import our price data and assign column names to the dataframe\n",
    "# data was obtained from blockchain.com Bitcoin market data\n",
    "# if the data has no header, uncomment the sections below and make the date info the index (which may need to be parsed)\n",
    "market_prices = pd.read_csv('data/btc_market_price.csv', index_col=0, parse_dates=True)\n",
    "#header = ['price']  # list of our headers, in this case just price\n",
    "#market_prices.columns = header  # assign the headers\n",
    "#market_prices.index.name = 'date'  # rename our index\n",
    "market_prices.head()"
   ]
  },
  {
   "cell_type": "code",
   "execution_count": null,
   "metadata": {},
   "outputs": [],
   "source": [
    "# plot all the price data\n",
    "market_prices['market-price'].plot(\n",
    "    figsize=(12,8),  # set the figure dimension\n",
    "    legend=False,  # turn off legend\n",
    "    title='Price of Bitcoin - All Time (USD)',  # set title\n",
    ")"
   ]
  },
  {
   "cell_type": "code",
   "execution_count": null,
   "metadata": {},
   "outputs": [],
   "source": [
    "# plot data from Jan to Apr 2018 during the Bitcoin Crash\n",
    "market_prices.loc['2018-01':'2018-03'].plot(\n",
    "    figsize=(12,8),  # set the figure dimension\n",
    "    legend=False,  # turn off legend\n",
    "    title='Price of Bitcoin - Jan to Apr - 2018',  # set title\n",
    ")"
   ]
  },
  {
   "cell_type": "markdown",
   "metadata": {
    "slideshow": {
     "slide_type": "slide"
    }
   },
   "source": [
    "<hr>\n",
    "\n",
    "## Data Delivery\n",
    "\n",
    "<hr>\n"
   ]
  },
  {
   "cell_type": "markdown",
   "metadata": {},
   "source": []
  },
  {
   "cell_type": "markdown",
   "metadata": {},
   "source": []
  },
  {
   "cell_type": "markdown",
   "metadata": {},
   "source": []
  },
  {
   "cell_type": "markdown",
   "metadata": {
    "slideshow": {
     "slide_type": "slide"
    }
   },
   "source": [
    "<hr>\n",
    "\n",
    "## Resources\n",
    "\n",
    "<hr>\n",
    "\n",
    "**Note:** A lot of the open-source materials are provided by people who develop those materials for a living. So please consider sending them a thank you and if you can, a few buck to support their efforts. Thanks! :)    \n",
    "\n",
    "* [matplotlib](https://matplotlib.org/index.html)\n",
    "* [seaborn](https://seaborn.pydata.org/tutorial.html)\n",
    "* [bokeh](https://bokeh.pydata.org/en/latest/)\n",
    "* [altair](https://altair-viz.github.io/)\n",
    "* [holoviews](https://holoviews.org/)\n",
    "* [wordcloud](https://amueller.github.io/word_cloud/)"
   ]
  }
 ],
 "metadata": {
  "kernelspec": {
   "display_name": "Python 3",
   "language": "python",
   "name": "python3"
  },
  "language_info": {
   "codemirror_mode": {
    "name": "ipython",
    "version": 3
   },
   "file_extension": ".py",
   "mimetype": "text/x-python",
   "name": "python",
   "nbconvert_exporter": "python",
   "pygments_lexer": "ipython3",
   "version": "3.9.1"
  }
 },
 "nbformat": 4,
 "nbformat_minor": 4
}
